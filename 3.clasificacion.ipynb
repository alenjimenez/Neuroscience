{
 "cells": [
  {
   "cell_type": "markdown",
   "metadata": {},
   "source": [
    "# **DATOS CIENTÍFICOS**"
   ]
  },
  {
   "cell_type": "markdown",
   "metadata": {},
   "source": [
    "**ITBA - Maestría en Ciencia de Datos - 2023**"
   ]
  },
  {
   "cell_type": "markdown",
   "metadata": {},
   "source": [
    "**Trabajo Práctico - Alen Jiménez**"
   ]
  },
  {
   "cell_type": "markdown",
   "metadata": {},
   "source": [
    "- El objetivo de esta notebook es clasificar datos provenientes de sensores de ondas cerebrales, que se estructuran en series de tiempo.\n",
    "- Las ondas cerebrales que van a ser estudiadas se corresponden con dos comportamientos: \"ojos abiertos\" y \"pestañeos\".\n",
    "- Se va a intentar construir un modelo de clasificación que pueda distinguir estos dos comportamientos a partir de los datos provistos por las ondas cerebrales.\n",
    "- El análisis descriptivo de todas las series disponibles se encuentra en la notebook analisis_filtros.ipynb"
   ]
  },
  {
   "cell_type": "markdown",
   "metadata": {},
   "source": [
    "# Tabla de Contenidos\n",
    "* [Set Up](#setup)"
   ]
  },
  {
   "cell_type": "markdown",
   "metadata": {},
   "source": [
    "# Set Up <a class = 'anchor' id = 'setup'></a>"
   ]
  },
  {
   "cell_type": "code",
   "execution_count": 15,
   "metadata": {},
   "outputs": [],
   "source": [
    "\n",
    "# Importamos bibliotecas\n",
    "\n",
    "import pandas as pd\n",
    "import numpy as np\n",
    "import matplotlib.pyplot as plt\n",
    "import seaborn as sns\n",
    "import requests\n",
    "from io import StringIO\n",
    "import os\n",
    "import sys, select\n",
    "import time\n",
    "import datetime\n",
    "import math\n",
    "from scipy import stats\n",
    "from scipy.fftpack import fft\n",
    "from scipy.signal import firwin, remez, kaiser_atten, kaiser_beta\n",
    "from scipy.signal import butter, filtfilt, buttord\n",
    "from scipy.signal import butter, lfilter\n",
    "from scipy.signal import find_peaks\n",
    "from collections import Counter\n",
    "#from xgboost import XGBClassifier # Clasificador de XGBoost\n",
    "#from bayes_opt import BayesianOptimization # Optimización Bayesiana\n",
    "from sklearn import svm\n",
    "from sklearn.linear_model import LogisticRegression\n",
    "from sklearn.model_selection import cross_val_score, train_test_split\n",
    "from sklearn.metrics import accuracy_score, confusion_matrix, classification_report\n",
    "#from keras.models import Sequential\n",
    "#from keras.layers import Dense\n"
   ]
  },
  {
   "cell_type": "code",
   "execution_count": 2,
   "metadata": {},
   "outputs": [
    {
     "name": "stdout",
     "output_type": "stream",
     "text": [
      "Directorio actual de trabajo: C:\\itba_datos_geograficos\\ramele\\tp\n"
     ]
    }
   ],
   "source": [
    "# Directorio de trabajo\n",
    "\n",
    "directorio_de_trabajo = 'C:/itba_datos_geograficos/ramele/tp'\n",
    "os.chdir(directorio_de_trabajo)\n",
    "print(f'Directorio actual de trabajo: {os.getcwd()}')"
   ]
  },
  {
   "cell_type": "code",
   "execution_count": 3,
   "metadata": {},
   "outputs": [],
   "source": [
    "# Importamos los archivos\n",
    "\n",
    "df = pd.read_csv('datos/dffinal.csv', sep=',', decimal='.')"
   ]
  },
  {
   "cell_type": "code",
   "execution_count": 6,
   "metadata": {},
   "outputs": [
    {
     "name": "stdout",
     "output_type": "stream",
     "text": [
      "<class 'pandas.core.frame.DataFrame'>\n",
      "RangeIndex: 60668 entries, 0 to 60667\n",
      "Data columns (total 11 columns):\n",
      " #   Column      Non-Null Count  Dtype  \n",
      "---  ------      --------------  -----  \n",
      " 0   target      60668 non-null  int64  \n",
      " 1   ptp         60668 non-null  int64  \n",
      " 2   rms         60668 non-null  float64\n",
      " 3   cf          60668 non-null  float64\n",
      " 4   entropy     60668 non-null  float64\n",
      " 5   activity    60668 non-null  float64\n",
      " 6   complexity  60668 non-null  float64\n",
      " 7   morbidity   60668 non-null  float64\n",
      " 8   fractal     60668 non-null  float64\n",
      " 9   psd9        0 non-null      float64\n",
      " 10  psd         60668 non-null  object \n",
      "dtypes: float64(8), int64(2), object(1)\n",
      "memory usage: 5.1+ MB\n"
     ]
    }
   ],
   "source": [
    "df.info()"
   ]
  },
  {
   "cell_type": "code",
   "execution_count": 7,
   "metadata": {},
   "outputs": [
    {
     "data": {
      "text/html": [
       "<div>\n",
       "<style scoped>\n",
       "    .dataframe tbody tr th:only-of-type {\n",
       "        vertical-align: middle;\n",
       "    }\n",
       "\n",
       "    .dataframe tbody tr th {\n",
       "        vertical-align: top;\n",
       "    }\n",
       "\n",
       "    .dataframe thead th {\n",
       "        text-align: right;\n",
       "    }\n",
       "</style>\n",
       "<table border=\"1\" class=\"dataframe\">\n",
       "  <thead>\n",
       "    <tr style=\"text-align: right;\">\n",
       "      <th></th>\n",
       "      <th>target</th>\n",
       "      <th>ptp</th>\n",
       "      <th>rms</th>\n",
       "      <th>cf</th>\n",
       "      <th>entropy</th>\n",
       "      <th>activity</th>\n",
       "      <th>complexity</th>\n",
       "      <th>morbidity</th>\n",
       "      <th>fractal</th>\n",
       "      <th>psd9</th>\n",
       "      <th>psd</th>\n",
       "    </tr>\n",
       "  </thead>\n",
       "  <tbody>\n",
       "    <tr>\n",
       "      <th>0</th>\n",
       "      <td>0</td>\n",
       "      <td>1055</td>\n",
       "      <td>145.506732</td>\n",
       "      <td>4.219736</td>\n",
       "      <td>7.352986</td>\n",
       "      <td>21172.208984</td>\n",
       "      <td>0.188514</td>\n",
       "      <td>5.499801</td>\n",
       "      <td>1.020167</td>\n",
       "      <td>NaN</td>\n",
       "      <td>&lt;function psd at 0x000001F30118E1E0&gt;</td>\n",
       "    </tr>\n",
       "    <tr>\n",
       "      <th>1</th>\n",
       "      <td>0</td>\n",
       "      <td>1072</td>\n",
       "      <td>146.862007</td>\n",
       "      <td>4.180795</td>\n",
       "      <td>7.359324</td>\n",
       "      <td>21568.449219</td>\n",
       "      <td>0.186804</td>\n",
       "      <td>5.548790</td>\n",
       "      <td>1.020052</td>\n",
       "      <td>NaN</td>\n",
       "      <td>&lt;function psd at 0x000001F30118E1E0&gt;</td>\n",
       "    </tr>\n",
       "    <tr>\n",
       "      <th>2</th>\n",
       "      <td>0</td>\n",
       "      <td>1106</td>\n",
       "      <td>148.430658</td>\n",
       "      <td>4.136612</td>\n",
       "      <td>7.367413</td>\n",
       "      <td>22031.660156</td>\n",
       "      <td>0.185107</td>\n",
       "      <td>5.592249</td>\n",
       "      <td>1.019937</td>\n",
       "      <td>NaN</td>\n",
       "      <td>&lt;function psd at 0x000001F30118E1E0&gt;</td>\n",
       "    </tr>\n",
       "    <tr>\n",
       "      <th>3</th>\n",
       "      <td>0</td>\n",
       "      <td>1138</td>\n",
       "      <td>150.193528</td>\n",
       "      <td>4.088059</td>\n",
       "      <td>7.367413</td>\n",
       "      <td>22558.095703</td>\n",
       "      <td>0.183148</td>\n",
       "      <td>5.644323</td>\n",
       "      <td>1.019937</td>\n",
       "      <td>NaN</td>\n",
       "      <td>&lt;function psd at 0x000001F30118E1E0&gt;</td>\n",
       "    </tr>\n",
       "    <tr>\n",
       "      <th>4</th>\n",
       "      <td>0</td>\n",
       "      <td>1159</td>\n",
       "      <td>152.089419</td>\n",
       "      <td>4.037099</td>\n",
       "      <td>7.372794</td>\n",
       "      <td>23131.191406</td>\n",
       "      <td>0.180834</td>\n",
       "      <td>5.718295</td>\n",
       "      <td>1.019937</td>\n",
       "      <td>NaN</td>\n",
       "      <td>&lt;function psd at 0x000001F30118E1E0&gt;</td>\n",
       "    </tr>\n",
       "  </tbody>\n",
       "</table>\n",
       "</div>"
      ],
      "text/plain": [
       "   target   ptp         rms        cf   entropy      activity  complexity  \\\n",
       "0       0  1055  145.506732  4.219736  7.352986  21172.208984    0.188514   \n",
       "1       0  1072  146.862007  4.180795  7.359324  21568.449219    0.186804   \n",
       "2       0  1106  148.430658  4.136612  7.367413  22031.660156    0.185107   \n",
       "3       0  1138  150.193528  4.088059  7.367413  22558.095703    0.183148   \n",
       "4       0  1159  152.089419  4.037099  7.372794  23131.191406    0.180834   \n",
       "\n",
       "   morbidity   fractal  psd9                                   psd  \n",
       "0   5.499801  1.020167   NaN  <function psd at 0x000001F30118E1E0>  \n",
       "1   5.548790  1.020052   NaN  <function psd at 0x000001F30118E1E0>  \n",
       "2   5.592249  1.019937   NaN  <function psd at 0x000001F30118E1E0>  \n",
       "3   5.644323  1.019937   NaN  <function psd at 0x000001F30118E1E0>  \n",
       "4   5.718295  1.019937   NaN  <function psd at 0x000001F30118E1E0>  "
      ]
     },
     "execution_count": 7,
     "metadata": {},
     "output_type": "execute_result"
    }
   ],
   "source": [
    "df.head()"
   ]
  },
  {
   "cell_type": "code",
   "execution_count": 9,
   "metadata": {},
   "outputs": [],
   "source": [
    "df.drop(['psd9','psd'], axis=1, inplace=True)"
   ]
  },
  {
   "cell_type": "code",
   "execution_count": 12,
   "metadata": {},
   "outputs": [],
   "source": [
    "X = df.drop(['target'], axis=1)\n",
    "y = df.target"
   ]
  },
  {
   "cell_type": "code",
   "execution_count": 13,
   "metadata": {},
   "outputs": [],
   "source": [
    "X_train, X_test, y_train, y_test  = train_test_split(X, y, test_size=.4, random_state = 1, stratify=y)"
   ]
  },
  {
   "cell_type": "code",
   "execution_count": null,
   "metadata": {},
   "outputs": [],
   "source": [
    "clf = svm.SVC(kernel='linear', C = 1.0)\n",
    "clf.fit(X_train,y_train)\n",
    "predlabels = clf.predict(X_test)"
   ]
  },
  {
   "cell_type": "code",
   "execution_count": 16,
   "metadata": {},
   "outputs": [
    {
     "name": "stdout",
     "output_type": "stream",
     "text": [
      "[[10170  1966]\n",
      " [ 2305  9827]]\n",
      "0.8240069226965552\n",
      "              precision    recall  f1-score   support\n",
      "\n",
      "    Abiertos       0.82      0.84      0.83     12136\n",
      "    Pestañeo       0.83      0.81      0.82     12132\n",
      "\n",
      "    accuracy                           0.82     24268\n",
      "   macro avg       0.82      0.82      0.82     24268\n",
      "weighted avg       0.82      0.82      0.82     24268\n",
      "\n"
     ]
    }
   ],
   "source": [
    "C = confusion_matrix(y_test, predlabels)\n",
    "acc = (float(C[0,0])+float(C[1,1])) / ( X_test.shape[0])\n",
    "print(C)\n",
    "print(acc)\n",
    "target_names = ['Abiertos', 'Pestañeo']\n",
    "report = classification_report(y_test, predlabels, target_names=target_names)\n",
    "print(report)"
   ]
  },
  {
   "cell_type": "code",
   "execution_count": 17,
   "metadata": {},
   "outputs": [
    {
     "name": "stdout",
     "output_type": "stream",
     "text": [
      "[[9043 3093]\n",
      " [3345 8787]]\n",
      "0.734712378440745\n",
      "              precision    recall  f1-score   support\n",
      "\n",
      "    Abiertos       0.73      0.75      0.74     12136\n",
      "    Pestañeo       0.74      0.72      0.73     12132\n",
      "\n",
      "    accuracy                           0.73     24268\n",
      "   macro avg       0.73      0.73      0.73     24268\n",
      "weighted avg       0.73      0.73      0.73     24268\n",
      "\n"
     ]
    }
   ],
   "source": [
    "# all parameters not specified are set to their defaults\n",
    "logisticRegr = LogisticRegression()\n",
    "logisticRegr.fit(X_train,y_train)\n",
    "\n",
    "# Returns a NumPy Array\n",
    "# Predict for One Observation (image)\n",
    "predlabels = logisticRegr.predict(X_test)\n",
    "\n",
    "C = confusion_matrix(y_test, predlabels)\n",
    "acc = (float(C[0,0])+float(C[1,1])) / ( X_test.shape[0])\n",
    "print(C)\n",
    "print(acc)\n",
    "target_names = ['Abiertos', 'Pestañeo']\n",
    "report = classification_report(y_test, predlabels, target_names=target_names)\n",
    "print(report)"
   ]
  },
  {
   "cell_type": "code",
   "execution_count": null,
   "metadata": {},
   "outputs": [],
   "source": []
  }
 ],
 "metadata": {
  "kernelspec": {
   "display_name": "mne3",
   "language": "python",
   "name": "python3"
  },
  "language_info": {
   "codemirror_mode": {
    "name": "ipython",
    "version": 3
   },
   "file_extension": ".py",
   "mimetype": "text/x-python",
   "name": "python",
   "nbconvert_exporter": "python",
   "pygments_lexer": "ipython3",
   "version": "3.6.10"
  }
 },
 "nbformat": 4,
 "nbformat_minor": 2
}
